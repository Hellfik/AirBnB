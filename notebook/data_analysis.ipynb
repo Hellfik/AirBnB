{
 "cells": [
  {
   "cell_type": "markdown",
   "metadata": {},
   "source": [
    "# I/ Import modules, configs"
   ]
  },
  {
   "cell_type": "code",
   "execution_count": 2,
   "metadata": {},
   "outputs": [],
   "source": [
    "import pandas as pd\n",
    "import numpy as np\n",
    "import seaborn as sns\n",
    "import matplotlib.pyplot as plt\n",
    "import sys\n",
    "\n",
    "# Pandas configurations \n",
    "%matplotlib inline\n",
    "pd.set_option('display.float_format', lambda x: '%.2f' % x)\n",
    "pd.set_option('display.max_rows', 100)\n",
    "pd.set_option('display.max_columns', 200)"
   ]
  },
  {
   "cell_type": "markdown",
   "metadata": {},
   "source": [
    "# II/ Import data"
   ]
  },
  {
   "cell_type": "code",
   "execution_count": 3,
   "metadata": {},
   "outputs": [],
   "source": [
    "df_listing = pd.read_csv('/home/apprenant/Documents/simplon_dev/pyhon_sql/AirBnB/Data/raw_data/listings.csv', low_memory=False)\n",
    "df_calendar = pd.read_csv('/home/apprenant/Documents/simplon_dev/pyhon_sql/AirBnB/Data/raw_data/calendar.csv', low_memory=False)\n",
    "df_reviews = pd.read_csv('/home/apprenant/Documents/simplon_dev/pyhon_sql/AirBnB/Data/raw_data/reviews.csv', low_memory=False)"
   ]
  },
  {
   "cell_type": "markdown",
   "metadata": {},
   "source": [
    "# III/ Data analysis"
   ]
  },
  {
   "cell_type": "code",
   "execution_count": 4,
   "metadata": {},
   "outputs": [
    {
     "data": {
      "text/html": "<div>\n<style scoped>\n    .dataframe tbody tr th:only-of-type {\n        vertical-align: middle;\n    }\n\n    .dataframe tbody tr th {\n        vertical-align: top;\n    }\n\n    .dataframe thead th {\n        text-align: right;\n    }\n</style>\n<table border=\"1\" class=\"dataframe\">\n  <thead>\n    <tr style=\"text-align: right;\">\n      <th></th>\n      <th>id</th>\n      <th>listing_url</th>\n      <th>scrape_id</th>\n      <th>last_scraped</th>\n      <th>name</th>\n      <th>description</th>\n      <th>neighborhood_overview</th>\n      <th>picture_url</th>\n      <th>host_id</th>\n      <th>host_url</th>\n      <th>host_name</th>\n      <th>host_since</th>\n      <th>host_location</th>\n      <th>host_about</th>\n      <th>host_response_time</th>\n      <th>host_response_rate</th>\n      <th>host_acceptance_rate</th>\n      <th>host_is_superhost</th>\n      <th>host_thumbnail_url</th>\n      <th>host_picture_url</th>\n      <th>host_neighbourhood</th>\n      <th>host_listings_count</th>\n      <th>host_total_listings_count</th>\n      <th>host_verifications</th>\n      <th>host_has_profile_pic</th>\n      <th>host_identity_verified</th>\n      <th>neighbourhood</th>\n      <th>neighbourhood_cleansed</th>\n      <th>neighbourhood_group_cleansed</th>\n      <th>latitude</th>\n      <th>longitude</th>\n      <th>property_type</th>\n      <th>room_type</th>\n      <th>accommodates</th>\n      <th>bathrooms</th>\n      <th>bathrooms_text</th>\n      <th>bedrooms</th>\n      <th>beds</th>\n      <th>amenities</th>\n      <th>price</th>\n      <th>minimum_nights</th>\n      <th>maximum_nights</th>\n      <th>minimum_minimum_nights</th>\n      <th>maximum_minimum_nights</th>\n      <th>minimum_maximum_nights</th>\n      <th>maximum_maximum_nights</th>\n      <th>minimum_nights_avg_ntm</th>\n      <th>maximum_nights_avg_ntm</th>\n      <th>calendar_updated</th>\n      <th>has_availability</th>\n      <th>availability_30</th>\n      <th>availability_60</th>\n      <th>availability_90</th>\n      <th>availability_365</th>\n      <th>calendar_last_scraped</th>\n      <th>number_of_reviews</th>\n      <th>number_of_reviews_ltm</th>\n      <th>number_of_reviews_l30d</th>\n      <th>first_review</th>\n      <th>last_review</th>\n      <th>review_scores_rating</th>\n      <th>review_scores_accuracy</th>\n      <th>review_scores_cleanliness</th>\n      <th>review_scores_checkin</th>\n      <th>review_scores_communication</th>\n      <th>review_scores_location</th>\n      <th>review_scores_value</th>\n      <th>license</th>\n      <th>instant_bookable</th>\n      <th>calculated_host_listings_count</th>\n      <th>calculated_host_listings_count_entire_homes</th>\n      <th>calculated_host_listings_count_private_rooms</th>\n      <th>calculated_host_listings_count_shared_rooms</th>\n      <th>reviews_per_month</th>\n    </tr>\n  </thead>\n  <tbody>\n    <tr>\n      <th>0</th>\n      <td>2577</td>\n      <td>https://www.airbnb.com/rooms/2577</td>\n      <td>20210410122610</td>\n      <td>2021-04-14</td>\n      <td>Loft for 4 by Canal Saint Martin</td>\n      <td>100 m2 loft (1100 sq feet) with high ceiling, ...</td>\n      <td>NaN</td>\n      <td>https://a0.muscache.com/pictures/09da057c-0120...</td>\n      <td>2827</td>\n      <td>https://www.airbnb.com/users/show/2827</td>\n      <td>Karine</td>\n      <td>2008-09-09</td>\n      <td>Casablanca, Grand Casablanca, Morocco</td>\n      <td>Arrivée à Casablanca il y a 4 ans, je suis amo...</td>\n      <td>within a day</td>\n      <td>50%</td>\n      <td>67%</td>\n      <td>f</td>\n      <td>https://a0.muscache.com/im/pictures/user/17fe6...</td>\n      <td>https://a0.muscache.com/im/pictures/user/17fe6...</td>\n      <td>République</td>\n      <td>2.00</td>\n      <td>2.00</td>\n      <td>['email', 'phone', 'reviews', 'jumio', 'govern...</td>\n      <td>t</td>\n      <td>t</td>\n      <td>NaN</td>\n      <td>Entrepôt</td>\n      <td>NaN</td>\n      <td>48.87</td>\n      <td>2.36</td>\n      <td>Entire loft</td>\n      <td>Entire home/apt</td>\n      <td>4</td>\n      <td>NaN</td>\n      <td>2 baths</td>\n      <td>2.00</td>\n      <td>2.00</td>\n      <td>[\"Essentials\", \"Kitchen\", \"Heating\", \"Host gre...</td>\n      <td>$125.00</td>\n      <td>3</td>\n      <td>1125</td>\n      <td>3.00</td>\n      <td>3.00</td>\n      <td>1125.00</td>\n      <td>1125.00</td>\n      <td>3.00</td>\n      <td>1125.00</td>\n      <td>NaN</td>\n      <td>t</td>\n      <td>0</td>\n      <td>0</td>\n      <td>12</td>\n      <td>286</td>\n      <td>2021-04-14</td>\n      <td>1</td>\n      <td>0</td>\n      <td>0</td>\n      <td>2019-01-02</td>\n      <td>2019-01-02</td>\n      <td>100.00</td>\n      <td>10.00</td>\n      <td>10.00</td>\n      <td>10.00</td>\n      <td>10.00</td>\n      <td>10.00</td>\n      <td>10.00</td>\n      <td>NaN</td>\n      <td>f</td>\n      <td>1</td>\n      <td>1</td>\n      <td>0</td>\n      <td>0</td>\n      <td>0.04</td>\n    </tr>\n    <tr>\n      <th>1</th>\n      <td>3109</td>\n      <td>https://www.airbnb.com/rooms/3109</td>\n      <td>20210410122610</td>\n      <td>2021-04-13</td>\n      <td>zen and calm</td>\n      <td>&lt;b&gt;The space&lt;/b&gt;&lt;br /&gt;I bedroom appartment in ...</td>\n      <td>Good restaurants&lt;br /&gt;very close the Montparna...</td>\n      <td>https://a0.muscache.com/pictures/baeae9e2-cd53...</td>\n      <td>3631</td>\n      <td>https://www.airbnb.com/users/show/3631</td>\n      <td>Anne</td>\n      <td>2008-10-14</td>\n      <td>Paris, Île-de-France, France</td>\n      <td>NaN</td>\n      <td>within a day</td>\n      <td>80%</td>\n      <td>0%</td>\n      <td>f</td>\n      <td>https://a0.muscache.com/im/users/3631/profile_...</td>\n      <td>https://a0.muscache.com/im/users/3631/profile_...</td>\n      <td>Alésia</td>\n      <td>1.00</td>\n      <td>1.00</td>\n      <td>['email', 'phone', 'facebook', 'reviews']</td>\n      <td>t</td>\n      <td>f</td>\n      <td>Paris, Île-de-France, France</td>\n      <td>Observatoire</td>\n      <td>NaN</td>\n      <td>48.83</td>\n      <td>2.32</td>\n      <td>Entire apartment</td>\n      <td>Entire home/apt</td>\n      <td>2</td>\n      <td>NaN</td>\n      <td>1 bath</td>\n      <td>NaN</td>\n      <td>1.00</td>\n      <td>[\"Smoke alarm\", \"Dishes and silverware\", \"Hair...</td>\n      <td>$60.00</td>\n      <td>2</td>\n      <td>30</td>\n      <td>2.00</td>\n      <td>2.00</td>\n      <td>30.00</td>\n      <td>30.00</td>\n      <td>2.00</td>\n      <td>30.00</td>\n      <td>NaN</td>\n      <td>t</td>\n      <td>30</td>\n      <td>60</td>\n      <td>90</td>\n      <td>365</td>\n      <td>2021-04-13</td>\n      <td>9</td>\n      <td>0</td>\n      <td>0</td>\n      <td>2016-12-27</td>\n      <td>2019-10-24</td>\n      <td>100.00</td>\n      <td>10.00</td>\n      <td>10.00</td>\n      <td>10.00</td>\n      <td>10.00</td>\n      <td>10.00</td>\n      <td>10.00</td>\n      <td>NaN</td>\n      <td>f</td>\n      <td>1</td>\n      <td>1</td>\n      <td>0</td>\n      <td>0</td>\n      <td>0.17</td>\n    </tr>\n    <tr>\n      <th>2</th>\n      <td>5396</td>\n      <td>https://www.airbnb.com/rooms/5396</td>\n      <td>20210410122610</td>\n      <td>2021-04-16</td>\n      <td>Explore the heart of old Paris</td>\n      <td>Cozy, well-appointed and graciously designed s...</td>\n      <td>You are within walking distance to the Louvre,...</td>\n      <td>https://a0.muscache.com/pictures/52413/f9bf76f...</td>\n      <td>7903</td>\n      <td>https://www.airbnb.com/users/show/7903</td>\n      <td>Borzou</td>\n      <td>2009-02-14</td>\n      <td>Istanbul, İstanbul, Turkey</td>\n      <td>We are both journalists based in the Middle Ea...</td>\n      <td>within an hour</td>\n      <td>100%</td>\n      <td>92%</td>\n      <td>f</td>\n      <td>https://a0.muscache.com/im/users/7903/profile_...</td>\n      <td>https://a0.muscache.com/im/users/7903/profile_...</td>\n      <td>Saint-Paul - Ile Saint-Louis</td>\n      <td>1.00</td>\n      <td>1.00</td>\n      <td>['email', 'phone', 'facebook', 'google', 'revi...</td>\n      <td>t</td>\n      <td>t</td>\n      <td>Paris, Ile-de-France, France</td>\n      <td>Hôtel-de-Ville</td>\n      <td>NaN</td>\n      <td>48.85</td>\n      <td>2.36</td>\n      <td>Entire apartment</td>\n      <td>Entire home/apt</td>\n      <td>2</td>\n      <td>NaN</td>\n      <td>1 bath</td>\n      <td>NaN</td>\n      <td>1.00</td>\n      <td>[\"Essentials\", \"TV with standard cable\", \"Dish...</td>\n      <td>$47.00</td>\n      <td>1</td>\n      <td>1125</td>\n      <td>1.00</td>\n      <td>1.00</td>\n      <td>1125.00</td>\n      <td>1125.00</td>\n      <td>1.00</td>\n      <td>1125.00</td>\n      <td>NaN</td>\n      <td>t</td>\n      <td>18</td>\n      <td>47</td>\n      <td>58</td>\n      <td>58</td>\n      <td>2021-04-16</td>\n      <td>237</td>\n      <td>17</td>\n      <td>3</td>\n      <td>2009-06-30</td>\n      <td>2021-04-12</td>\n      <td>90.00</td>\n      <td>9.00</td>\n      <td>9.00</td>\n      <td>10.00</td>\n      <td>10.00</td>\n      <td>10.00</td>\n      <td>9.00</td>\n      <td>7510402838018</td>\n      <td>f</td>\n      <td>1</td>\n      <td>1</td>\n      <td>0</td>\n      <td>0</td>\n      <td>1.65</td>\n    </tr>\n    <tr>\n      <th>3</th>\n      <td>7397</td>\n      <td>https://www.airbnb.com/rooms/7397</td>\n      <td>20210410122610</td>\n      <td>2021-04-16</td>\n      <td>MARAIS - 2ROOMS APT - 2/4 PEOPLE</td>\n      <td>VERY CONVENIENT, WITH THE BEST LOCATION !&lt;br /...</td>\n      <td>NaN</td>\n      <td>https://a0.muscache.com/pictures/67928287/330b...</td>\n      <td>2626</td>\n      <td>https://www.airbnb.com/users/show/2626</td>\n      <td>Franck</td>\n      <td>2008-08-30</td>\n      <td>Paris, Île-de-France, France</td>\n      <td>I am a writer,51, author of novels, books of l...</td>\n      <td>within an hour</td>\n      <td>100%</td>\n      <td>83%</td>\n      <td>t</td>\n      <td>https://a0.muscache.com/im/pictures/user/58f00...</td>\n      <td>https://a0.muscache.com/im/pictures/user/58f00...</td>\n      <td>Le Marais</td>\n      <td>4.00</td>\n      <td>4.00</td>\n      <td>['email', 'phone', 'reviews', 'jumio', 'offlin...</td>\n      <td>t</td>\n      <td>t</td>\n      <td>NaN</td>\n      <td>Hôtel-de-Ville</td>\n      <td>NaN</td>\n      <td>48.86</td>\n      <td>2.35</td>\n      <td>Entire apartment</td>\n      <td>Entire home/apt</td>\n      <td>4</td>\n      <td>NaN</td>\n      <td>1 bath</td>\n      <td>2.00</td>\n      <td>2.00</td>\n      <td>[\"Essentials\", \"TV with standard cable\", \"Dish...</td>\n      <td>$90.00</td>\n      <td>10</td>\n      <td>130</td>\n      <td>10.00</td>\n      <td>10.00</td>\n      <td>130.00</td>\n      <td>130.00</td>\n      <td>10.00</td>\n      <td>130.00</td>\n      <td>NaN</td>\n      <td>t</td>\n      <td>13</td>\n      <td>39</td>\n      <td>64</td>\n      <td>327</td>\n      <td>2021-04-16</td>\n      <td>272</td>\n      <td>4</td>\n      <td>1</td>\n      <td>2011-04-08</td>\n      <td>2021-03-28</td>\n      <td>94.00</td>\n      <td>10.00</td>\n      <td>9.00</td>\n      <td>10.00</td>\n      <td>10.00</td>\n      <td>10.00</td>\n      <td>10.00</td>\n      <td>7510400829623</td>\n      <td>f</td>\n      <td>1</td>\n      <td>1</td>\n      <td>0</td>\n      <td>0</td>\n      <td>2.23</td>\n    </tr>\n    <tr>\n      <th>4</th>\n      <td>7964</td>\n      <td>https://www.airbnb.com/rooms/7964</td>\n      <td>20210410122610</td>\n      <td>2021-04-13</td>\n      <td>Large &amp; sunny flat with balcony !</td>\n      <td>Very large &amp; nice apartment all for you! &lt;br /...</td>\n      <td>NaN</td>\n      <td>https://a0.muscache.com/pictures/4471349/6fb3d...</td>\n      <td>22155</td>\n      <td>https://www.airbnb.com/users/show/22155</td>\n      <td>Anaïs</td>\n      <td>2009-06-18</td>\n      <td>Paris, Île-de-France, France</td>\n      <td>Hello ! \\r\\nOur apartment is great and I am su...</td>\n      <td>NaN</td>\n      <td>NaN</td>\n      <td>NaN</td>\n      <td>f</td>\n      <td>https://a0.muscache.com/im/users/22155/profile...</td>\n      <td>https://a0.muscache.com/im/users/22155/profile...</td>\n      <td>Gare du Nord - Gare de I'Est</td>\n      <td>0.00</td>\n      <td>0.00</td>\n      <td>['email', 'phone', 'reviews', 'jumio', 'offlin...</td>\n      <td>t</td>\n      <td>t</td>\n      <td>NaN</td>\n      <td>Opéra</td>\n      <td>NaN</td>\n      <td>48.87</td>\n      <td>2.34</td>\n      <td>Entire apartment</td>\n      <td>Entire home/apt</td>\n      <td>2</td>\n      <td>NaN</td>\n      <td>1 bath</td>\n      <td>1.00</td>\n      <td>1.00</td>\n      <td>[\"Essentials\", \"TV with standard cable\", \"Kitc...</td>\n      <td>$130.00</td>\n      <td>6</td>\n      <td>365</td>\n      <td>6.00</td>\n      <td>6.00</td>\n      <td>365.00</td>\n      <td>365.00</td>\n      <td>6.00</td>\n      <td>365.00</td>\n      <td>NaN</td>\n      <td>t</td>\n      <td>30</td>\n      <td>60</td>\n      <td>90</td>\n      <td>365</td>\n      <td>2021-04-13</td>\n      <td>6</td>\n      <td>0</td>\n      <td>0</td>\n      <td>2010-05-10</td>\n      <td>2015-09-14</td>\n      <td>96.00</td>\n      <td>10.00</td>\n      <td>10.00</td>\n      <td>10.00</td>\n      <td>10.00</td>\n      <td>10.00</td>\n      <td>10.00</td>\n      <td>7510903576564</td>\n      <td>f</td>\n      <td>1</td>\n      <td>1</td>\n      <td>0</td>\n      <td>0</td>\n      <td>0.05</td>\n    </tr>\n  </tbody>\n</table>\n</div>",
      "text/plain": "     id                        listing_url       scrape_id last_scraped  \\\n0  2577  https://www.airbnb.com/rooms/2577  20210410122610   2021-04-14   \n1  3109  https://www.airbnb.com/rooms/3109  20210410122610   2021-04-13   \n2  5396  https://www.airbnb.com/rooms/5396  20210410122610   2021-04-16   \n3  7397  https://www.airbnb.com/rooms/7397  20210410122610   2021-04-16   \n4  7964  https://www.airbnb.com/rooms/7964  20210410122610   2021-04-13   \n\n                                name  \\\n0   Loft for 4 by Canal Saint Martin   \n1                       zen and calm   \n2     Explore the heart of old Paris   \n3   MARAIS - 2ROOMS APT - 2/4 PEOPLE   \n4  Large & sunny flat with balcony !   \n\n                                         description  \\\n0  100 m2 loft (1100 sq feet) with high ceiling, ...   \n1  <b>The space</b><br />I bedroom appartment in ...   \n2  Cozy, well-appointed and graciously designed s...   \n3  VERY CONVENIENT, WITH THE BEST LOCATION !<br /...   \n4  Very large & nice apartment all for you! <br /...   \n\n                               neighborhood_overview  \\\n0                                                NaN   \n1  Good restaurants<br />very close the Montparna...   \n2  You are within walking distance to the Louvre,...   \n3                                                NaN   \n4                                                NaN   \n\n                                         picture_url  host_id  \\\n0  https://a0.muscache.com/pictures/09da057c-0120...     2827   \n1  https://a0.muscache.com/pictures/baeae9e2-cd53...     3631   \n2  https://a0.muscache.com/pictures/52413/f9bf76f...     7903   \n3  https://a0.muscache.com/pictures/67928287/330b...     2626   \n4  https://a0.muscache.com/pictures/4471349/6fb3d...    22155   \n\n                                  host_url host_name  host_since  \\\n0   https://www.airbnb.com/users/show/2827    Karine  2008-09-09   \n1   https://www.airbnb.com/users/show/3631      Anne  2008-10-14   \n2   https://www.airbnb.com/users/show/7903    Borzou  2009-02-14   \n3   https://www.airbnb.com/users/show/2626    Franck  2008-08-30   \n4  https://www.airbnb.com/users/show/22155     Anaïs  2009-06-18   \n\n                           host_location  \\\n0  Casablanca, Grand Casablanca, Morocco   \n1           Paris, Île-de-France, France   \n2             Istanbul, İstanbul, Turkey   \n3           Paris, Île-de-France, France   \n4           Paris, Île-de-France, France   \n\n                                          host_about host_response_time  \\\n0  Arrivée à Casablanca il y a 4 ans, je suis amo...       within a day   \n1                                                NaN       within a day   \n2  We are both journalists based in the Middle Ea...     within an hour   \n3  I am a writer,51, author of novels, books of l...     within an hour   \n4  Hello ! \\r\\nOur apartment is great and I am su...                NaN   \n\n  host_response_rate host_acceptance_rate host_is_superhost  \\\n0                50%                  67%                 f   \n1                80%                   0%                 f   \n2               100%                  92%                 f   \n3               100%                  83%                 t   \n4                NaN                  NaN                 f   \n\n                                  host_thumbnail_url  \\\n0  https://a0.muscache.com/im/pictures/user/17fe6...   \n1  https://a0.muscache.com/im/users/3631/profile_...   \n2  https://a0.muscache.com/im/users/7903/profile_...   \n3  https://a0.muscache.com/im/pictures/user/58f00...   \n4  https://a0.muscache.com/im/users/22155/profile...   \n\n                                    host_picture_url  \\\n0  https://a0.muscache.com/im/pictures/user/17fe6...   \n1  https://a0.muscache.com/im/users/3631/profile_...   \n2  https://a0.muscache.com/im/users/7903/profile_...   \n3  https://a0.muscache.com/im/pictures/user/58f00...   \n4  https://a0.muscache.com/im/users/22155/profile...   \n\n             host_neighbourhood  host_listings_count  \\\n0                    République                 2.00   \n1                        Alésia                 1.00   \n2  Saint-Paul - Ile Saint-Louis                 1.00   \n3                     Le Marais                 4.00   \n4  Gare du Nord - Gare de I'Est                 0.00   \n\n   host_total_listings_count  \\\n0                       2.00   \n1                       1.00   \n2                       1.00   \n3                       4.00   \n4                       0.00   \n\n                                  host_verifications host_has_profile_pic  \\\n0  ['email', 'phone', 'reviews', 'jumio', 'govern...                    t   \n1          ['email', 'phone', 'facebook', 'reviews']                    t   \n2  ['email', 'phone', 'facebook', 'google', 'revi...                    t   \n3  ['email', 'phone', 'reviews', 'jumio', 'offlin...                    t   \n4  ['email', 'phone', 'reviews', 'jumio', 'offlin...                    t   \n\n  host_identity_verified                 neighbourhood neighbourhood_cleansed  \\\n0                      t                           NaN               Entrepôt   \n1                      f  Paris, Île-de-France, France           Observatoire   \n2                      t  Paris, Ile-de-France, France         Hôtel-de-Ville   \n3                      t                           NaN         Hôtel-de-Ville   \n4                      t                           NaN                  Opéra   \n\n   neighbourhood_group_cleansed  latitude  longitude     property_type  \\\n0                           NaN     48.87       2.36       Entire loft   \n1                           NaN     48.83       2.32  Entire apartment   \n2                           NaN     48.85       2.36  Entire apartment   \n3                           NaN     48.86       2.35  Entire apartment   \n4                           NaN     48.87       2.34  Entire apartment   \n\n         room_type  accommodates  bathrooms bathrooms_text  bedrooms  beds  \\\n0  Entire home/apt             4        NaN        2 baths      2.00  2.00   \n1  Entire home/apt             2        NaN         1 bath       NaN  1.00   \n2  Entire home/apt             2        NaN         1 bath       NaN  1.00   \n3  Entire home/apt             4        NaN         1 bath      2.00  2.00   \n4  Entire home/apt             2        NaN         1 bath      1.00  1.00   \n\n                                           amenities    price  minimum_nights  \\\n0  [\"Essentials\", \"Kitchen\", \"Heating\", \"Host gre...  $125.00               3   \n1  [\"Smoke alarm\", \"Dishes and silverware\", \"Hair...   $60.00               2   \n2  [\"Essentials\", \"TV with standard cable\", \"Dish...   $47.00               1   \n3  [\"Essentials\", \"TV with standard cable\", \"Dish...   $90.00              10   \n4  [\"Essentials\", \"TV with standard cable\", \"Kitc...  $130.00               6   \n\n   maximum_nights  minimum_minimum_nights  maximum_minimum_nights  \\\n0            1125                    3.00                    3.00   \n1              30                    2.00                    2.00   \n2            1125                    1.00                    1.00   \n3             130                   10.00                   10.00   \n4             365                    6.00                    6.00   \n\n   minimum_maximum_nights  maximum_maximum_nights  minimum_nights_avg_ntm  \\\n0                 1125.00                 1125.00                    3.00   \n1                   30.00                   30.00                    2.00   \n2                 1125.00                 1125.00                    1.00   \n3                  130.00                  130.00                   10.00   \n4                  365.00                  365.00                    6.00   \n\n   maximum_nights_avg_ntm  calendar_updated has_availability  availability_30  \\\n0                 1125.00               NaN                t                0   \n1                   30.00               NaN                t               30   \n2                 1125.00               NaN                t               18   \n3                  130.00               NaN                t               13   \n4                  365.00               NaN                t               30   \n\n   availability_60  availability_90  availability_365 calendar_last_scraped  \\\n0                0               12               286            2021-04-14   \n1               60               90               365            2021-04-13   \n2               47               58                58            2021-04-16   \n3               39               64               327            2021-04-16   \n4               60               90               365            2021-04-13   \n\n   number_of_reviews  number_of_reviews_ltm  number_of_reviews_l30d  \\\n0                  1                      0                       0   \n1                  9                      0                       0   \n2                237                     17                       3   \n3                272                      4                       1   \n4                  6                      0                       0   \n\n  first_review last_review  review_scores_rating  review_scores_accuracy  \\\n0   2019-01-02  2019-01-02                100.00                   10.00   \n1   2016-12-27  2019-10-24                100.00                   10.00   \n2   2009-06-30  2021-04-12                 90.00                    9.00   \n3   2011-04-08  2021-03-28                 94.00                   10.00   \n4   2010-05-10  2015-09-14                 96.00                   10.00   \n\n   review_scores_cleanliness  review_scores_checkin  \\\n0                      10.00                  10.00   \n1                      10.00                  10.00   \n2                       9.00                  10.00   \n3                       9.00                  10.00   \n4                      10.00                  10.00   \n\n   review_scores_communication  review_scores_location  review_scores_value  \\\n0                        10.00                   10.00                10.00   \n1                        10.00                   10.00                10.00   \n2                        10.00                   10.00                 9.00   \n3                        10.00                   10.00                10.00   \n4                        10.00                   10.00                10.00   \n\n         license instant_bookable  calculated_host_listings_count  \\\n0            NaN                f                               1   \n1            NaN                f                               1   \n2  7510402838018                f                               1   \n3  7510400829623                f                               1   \n4  7510903576564                f                               1   \n\n   calculated_host_listings_count_entire_homes  \\\n0                                            1   \n1                                            1   \n2                                            1   \n3                                            1   \n4                                            1   \n\n   calculated_host_listings_count_private_rooms  \\\n0                                             0   \n1                                             0   \n2                                             0   \n3                                             0   \n4                                             0   \n\n   calculated_host_listings_count_shared_rooms  reviews_per_month  \n0                                            0               0.04  \n1                                            0               0.17  \n2                                            0               1.65  \n3                                            0               2.23  \n4                                            0               0.05  "
     },
     "execution_count": 4,
     "metadata": {},
     "output_type": "execute_result"
    }
   ],
   "source": [
    "# Examinating head of listings csv file\n",
    "df_listing.head()"
   ]
  },
  {
   "cell_type": "code",
   "execution_count": 5,
   "metadata": {},
   "outputs": [
    {
     "data": {
      "text/html": "<div>\n<style scoped>\n    .dataframe tbody tr th:only-of-type {\n        vertical-align: middle;\n    }\n\n    .dataframe tbody tr th {\n        vertical-align: top;\n    }\n\n    .dataframe thead th {\n        text-align: right;\n    }\n</style>\n<table border=\"1\" class=\"dataframe\">\n  <thead>\n    <tr style=\"text-align: right;\">\n      <th></th>\n      <th>listing_id</th>\n      <th>date</th>\n      <th>available</th>\n      <th>price</th>\n      <th>adjusted_price</th>\n      <th>minimum_nights</th>\n      <th>maximum_nights</th>\n    </tr>\n  </thead>\n  <tbody>\n    <tr>\n      <th>0</th>\n      <td>55239</td>\n      <td>2021-04-15</td>\n      <td>f</td>\n      <td>$430.00</td>\n      <td>$421.00</td>\n      <td>2.00</td>\n      <td>1125.00</td>\n    </tr>\n    <tr>\n      <th>1</th>\n      <td>11213</td>\n      <td>2021-04-16</td>\n      <td>t</td>\n      <td>$170.00</td>\n      <td>$170.00</td>\n      <td>1.00</td>\n      <td>730.00</td>\n    </tr>\n    <tr>\n      <th>2</th>\n      <td>11213</td>\n      <td>2021-04-17</td>\n      <td>t</td>\n      <td>$170.00</td>\n      <td>$170.00</td>\n      <td>1.00</td>\n      <td>730.00</td>\n    </tr>\n    <tr>\n      <th>3</th>\n      <td>11213</td>\n      <td>2021-04-18</td>\n      <td>t</td>\n      <td>$170.00</td>\n      <td>$170.00</td>\n      <td>1.00</td>\n      <td>730.00</td>\n    </tr>\n    <tr>\n      <th>4</th>\n      <td>11213</td>\n      <td>2021-04-19</td>\n      <td>t</td>\n      <td>$170.00</td>\n      <td>$170.00</td>\n      <td>1.00</td>\n      <td>730.00</td>\n    </tr>\n  </tbody>\n</table>\n</div>",
      "text/plain": "   listing_id        date available    price adjusted_price  minimum_nights  \\\n0       55239  2021-04-15         f  $430.00        $421.00            2.00   \n1       11213  2021-04-16         t  $170.00        $170.00            1.00   \n2       11213  2021-04-17         t  $170.00        $170.00            1.00   \n3       11213  2021-04-18         t  $170.00        $170.00            1.00   \n4       11213  2021-04-19         t  $170.00        $170.00            1.00   \n\n   maximum_nights  \n0         1125.00  \n1          730.00  \n2          730.00  \n3          730.00  \n4          730.00  "
     },
     "execution_count": 5,
     "metadata": {},
     "output_type": "execute_result"
    }
   ],
   "source": [
    "df_calendar.head()"
   ]
  },
  {
   "cell_type": "code",
   "execution_count": 6,
   "metadata": {},
   "outputs": [
    {
     "data": {
      "text/html": "<div>\n<style scoped>\n    .dataframe tbody tr th:only-of-type {\n        vertical-align: middle;\n    }\n\n    .dataframe tbody tr th {\n        vertical-align: top;\n    }\n\n    .dataframe thead th {\n        text-align: right;\n    }\n</style>\n<table border=\"1\" class=\"dataframe\">\n  <thead>\n    <tr style=\"text-align: right;\">\n      <th></th>\n      <th>listing_id</th>\n      <th>id</th>\n      <th>date</th>\n      <th>reviewer_id</th>\n      <th>reviewer_name</th>\n      <th>comments</th>\n    </tr>\n  </thead>\n  <tbody>\n    <tr>\n      <th>0</th>\n      <td>2577</td>\n      <td>366217274</td>\n      <td>2019-01-02</td>\n      <td>28047930</td>\n      <td>Kate</td>\n      <td>Beautiful apartment in a really handy location...</td>\n    </tr>\n    <tr>\n      <th>1</th>\n      <td>3109</td>\n      <td>123127969</td>\n      <td>2016-12-27</td>\n      <td>12389804</td>\n      <td>Sophie</td>\n      <td>The host canceled this reservation the day bef...</td>\n    </tr>\n    <tr>\n      <th>2</th>\n      <td>3109</td>\n      <td>123274144</td>\n      <td>2016-12-28</td>\n      <td>67553494</td>\n      <td>Tom'S</td>\n      <td>The host canceled this reservation 2 days befo...</td>\n    </tr>\n    <tr>\n      <th>3</th>\n      <td>3109</td>\n      <td>207127433</td>\n      <td>2017-10-28</td>\n      <td>51636494</td>\n      <td>Patricia</td>\n      <td>Tout s'est bien déroulé. Merci bien. PG</td>\n    </tr>\n    <tr>\n      <th>4</th>\n      <td>3109</td>\n      <td>208779822</td>\n      <td>2017-11-03</td>\n      <td>4142888</td>\n      <td>Patricia</td>\n      <td>Un petit nid fouiller douillet situé dans  app...</td>\n    </tr>\n  </tbody>\n</table>\n</div>",
      "text/plain": "   listing_id         id        date  reviewer_id reviewer_name  \\\n0        2577  366217274  2019-01-02     28047930          Kate   \n1        3109  123127969  2016-12-27     12389804        Sophie   \n2        3109  123274144  2016-12-28     67553494         Tom'S   \n3        3109  207127433  2017-10-28     51636494      Patricia   \n4        3109  208779822  2017-11-03      4142888      Patricia   \n\n                                            comments  \n0  Beautiful apartment in a really handy location...  \n1  The host canceled this reservation the day bef...  \n2  The host canceled this reservation 2 days befo...  \n3            Tout s'est bien déroulé. Merci bien. PG  \n4  Un petit nid fouiller douillet situé dans  app...  "
     },
     "execution_count": 6,
     "metadata": {},
     "output_type": "execute_result"
    }
   ],
   "source": [
    "df_reviews.head()"
   ]
  },
  {
   "cell_type": "code",
   "execution_count": 7,
   "metadata": {},
   "outputs": [
    {
     "name": "stdout",
     "output_type": "stream",
     "text": [
      "(63090, 74)\n",
      "(23033688, 7)\n",
      "(1184124, 6)\n"
     ]
    }
   ],
   "source": [
    "# Datasets dimensions\n",
    "print(df_listing.shape)\n",
    "print(df_calendar.shape)\n",
    "print(df_reviews.shape)"
   ]
  },
  {
   "cell_type": "code",
   "execution_count": 8,
   "metadata": {},
   "outputs": [],
   "source": [
    "# Filtering out uneeded columns for our datasets\n",
    "\n",
    "# Listings Dataset\n",
    "listings_cols = [\n",
    "    'id', \n",
    "    'host_id', \n",
    "    'name', \n",
    "    'host_is_superhost', \n",
    "    'calculated_host_listings_count', \n",
    "    'neighbourhood_cleansed', \n",
    "    'latitude',\n",
    "    'longitude',\n",
    "    'host_since',\n",
    "    'host_location',\n",
    "    'room_type',\n",
    "    'accommodates',\n",
    "    'beds',\n",
    "    'price',\n",
    "    'minimum_nights',\n",
    "    'maximum_nights',\n",
    "    'has_availability',\n",
    "    'availability_365',\n",
    "    'number_of_reviews',\n",
    "    'review_scores_rating',\n",
    "    'reviews_per_month'\n",
    "]\n",
    "df_listing = df_listing[listings_cols]\n",
    "\n",
    "# Calendar Dataset\n",
    "calendar_cols = [\n",
    "    'listing_id',\n",
    "    'date',\n",
    "    'available',\n",
    "    'price',\n",
    "    'minimum_nights',\n",
    "    'maximum_nights'\n",
    "]\n",
    "df_calendar = df_calendar[calendar_cols]\n",
    "\n",
    "# Reviews Dataset\n",
    "reviews_cols = [\n",
    "    'listing_id',\n",
    "    'id',\n",
    "    'date',\n",
    "    'comments'\n",
    "]\n",
    "df_reviews = df_reviews[reviews_cols]"
   ]
  },
  {
   "cell_type": "code",
   "execution_count": 9,
   "metadata": {},
   "outputs": [
    {
     "data": {
      "text/plain": "id                                  int64\nhost_id                             int64\nname                               object\nhost_is_superhost                  object\ncalculated_host_listings_count      int64\nneighbourhood_cleansed             object\nlatitude                          float64\nlongitude                         float64\nhost_since                         object\nhost_location                      object\nroom_type                          object\naccommodates                        int64\nbeds                              float64\nprice                              object\nminimum_nights                      int64\nmaximum_nights                      int64\nhas_availability                   object\navailability_365                    int64\nnumber_of_reviews                   int64\nreview_scores_rating              float64\nreviews_per_month                 float64\ndtype: object"
     },
     "execution_count": 9,
     "metadata": {},
     "output_type": "execute_result"
    }
   ],
   "source": [
    "# List variables type\n",
    "df_listing.dtypes"
   ]
  },
  {
   "cell_type": "code",
   "execution_count": 10,
   "metadata": {},
   "outputs": [
    {
     "data": {
      "text/plain": "listing_id          int64\ndate               object\navailable          object\nprice              object\nminimum_nights    float64\nmaximum_nights    float64\ndtype: object"
     },
     "execution_count": 10,
     "metadata": {},
     "output_type": "execute_result"
    }
   ],
   "source": [
    "# List variables type\n",
    "df_calendar.dtypes"
   ]
  },
  {
   "cell_type": "code",
   "execution_count": 11,
   "metadata": {},
   "outputs": [
    {
     "data": {
      "text/plain": "listing_id     int64\nid             int64\ndate          object\ncomments      object\ndtype: object"
     },
     "execution_count": 11,
     "metadata": {},
     "output_type": "execute_result"
    }
   ],
   "source": [
    "# List variables type\n",
    "df_reviews.dtypes"
   ]
  },
  {
   "cell_type": "code",
   "execution_count": 12,
   "metadata": {},
   "outputs": [
    {
     "data": {
      "text/plain": "id                                    0\nhost_id                               0\nname                                 62\nhost_is_superhost                  1754\ncalculated_host_listings_count        0\nneighbourhood_cleansed                0\nlatitude                              0\nlongitude                             0\nhost_since                         1754\nhost_location                      1883\nroom_type                             0\naccommodates                          0\nbeds                                630\nprice                                 0\nminimum_nights                        0\nmaximum_nights                        0\nhas_availability                      0\navailability_365                      0\nnumber_of_reviews                     0\nreview_scores_rating              16449\nreviews_per_month                 15306\ndtype: int64"
     },
     "execution_count": 12,
     "metadata": {},
     "output_type": "execute_result"
    }
   ],
   "source": [
    "df_listing.isnull().sum()"
   ]
  },
  {
   "cell_type": "code",
   "execution_count": 13,
   "metadata": {},
   "outputs": [
    {
     "data": {
      "text/plain": "listing_id            0\ndate                  0\navailable             0\nprice              1790\nminimum_nights    10557\nmaximum_nights    10557\ndtype: int64"
     },
     "execution_count": 13,
     "metadata": {},
     "output_type": "execute_result"
    }
   ],
   "source": [
    "df_calendar.isnull().sum()"
   ]
  },
  {
   "cell_type": "code",
   "execution_count": 14,
   "metadata": {},
   "outputs": [
    {
     "data": {
      "text/plain": "listing_id      0\nid              0\ndate            0\ncomments      557\ndtype: int64"
     },
     "execution_count": 14,
     "metadata": {},
     "output_type": "execute_result"
    }
   ],
   "source": [
    "df_reviews.isnull().sum()"
   ]
  },
  {
   "cell_type": "code",
   "execution_count": 15,
   "metadata": {},
   "outputs": [
    {
     "data": {
      "text/plain": "0"
     },
     "execution_count": 15,
     "metadata": {},
     "output_type": "execute_result"
    }
   ],
   "source": [
    "df_listing.duplicated().sum()"
   ]
  },
  {
   "cell_type": "code",
   "execution_count": 16,
   "metadata": {},
   "outputs": [
    {
     "data": {
      "text/plain": "0"
     },
     "execution_count": 16,
     "metadata": {},
     "output_type": "execute_result"
    }
   ],
   "source": [
    "df_reviews.duplicated().sum()"
   ]
  },
  {
   "cell_type": "code",
   "execution_count": 17,
   "metadata": {},
   "outputs": [
    {
     "data": {
      "text/html": "<div>\n<style scoped>\n    .dataframe tbody tr th:only-of-type {\n        vertical-align: middle;\n    }\n\n    .dataframe tbody tr th {\n        vertical-align: top;\n    }\n\n    .dataframe thead th {\n        text-align: right;\n    }\n</style>\n<table border=\"1\" class=\"dataframe\">\n  <thead>\n    <tr style=\"text-align: right;\">\n      <th></th>\n      <th>id</th>\n      <th>host_id</th>\n      <th>calculated_host_listings_count</th>\n      <th>latitude</th>\n      <th>longitude</th>\n      <th>accommodates</th>\n      <th>beds</th>\n      <th>minimum_nights</th>\n      <th>maximum_nights</th>\n      <th>availability_365</th>\n      <th>number_of_reviews</th>\n      <th>review_scores_rating</th>\n      <th>reviews_per_month</th>\n    </tr>\n  </thead>\n  <tbody>\n    <tr>\n      <th>count</th>\n      <td>63090.00</td>\n      <td>63090.00</td>\n      <td>63090.00</td>\n      <td>63090.00</td>\n      <td>63090.00</td>\n      <td>63090.00</td>\n      <td>62460.00</td>\n      <td>63090.00</td>\n      <td>63090.00</td>\n      <td>63090.00</td>\n      <td>63090.00</td>\n      <td>46641.00</td>\n      <td>47784.00</td>\n    </tr>\n    <tr>\n      <th>mean</th>\n      <td>24321155.73</td>\n      <td>88748545.78</td>\n      <td>12.85</td>\n      <td>48.86</td>\n      <td>2.35</td>\n      <td>3.04</td>\n      <td>1.68</td>\n      <td>6.03</td>\n      <td>852.76</td>\n      <td>100.79</td>\n      <td>18.77</td>\n      <td>93.09</td>\n      <td>0.63</td>\n    </tr>\n    <tr>\n      <th>std</th>\n      <td>14511132.22</td>\n      <td>106108316.85</td>\n      <td>62.43</td>\n      <td>0.02</td>\n      <td>0.03</td>\n      <td>1.60</td>\n      <td>1.32</td>\n      <td>45.30</td>\n      <td>39817.08</td>\n      <td>137.44</td>\n      <td>40.94</td>\n      <td>9.02</td>\n      <td>0.97</td>\n    </tr>\n    <tr>\n      <th>min</th>\n      <td>2577.00</td>\n      <td>2626.00</td>\n      <td>1.00</td>\n      <td>48.81</td>\n      <td>2.22</td>\n      <td>0.00</td>\n      <td>0.00</td>\n      <td>1.00</td>\n      <td>1.00</td>\n      <td>0.00</td>\n      <td>0.00</td>\n      <td>20.00</td>\n      <td>0.01</td>\n    </tr>\n    <tr>\n      <th>25%</th>\n      <td>11714914.50</td>\n      <td>12926432.00</td>\n      <td>1.00</td>\n      <td>48.85</td>\n      <td>2.32</td>\n      <td>2.00</td>\n      <td>1.00</td>\n      <td>1.00</td>\n      <td>30.00</td>\n      <td>0.00</td>\n      <td>1.00</td>\n      <td>90.00</td>\n      <td>0.11</td>\n    </tr>\n    <tr>\n      <th>50%</th>\n      <td>23835849.50</td>\n      <td>37546325.50</td>\n      <td>1.00</td>\n      <td>48.87</td>\n      <td>2.35</td>\n      <td>2.00</td>\n      <td>1.00</td>\n      <td>2.00</td>\n      <td>1125.00</td>\n      <td>0.00</td>\n      <td>5.00</td>\n      <td>95.00</td>\n      <td>0.30</td>\n    </tr>\n    <tr>\n      <th>75%</th>\n      <td>37348607.25</td>\n      <td>132157839.25</td>\n      <td>2.00</td>\n      <td>48.88</td>\n      <td>2.37</td>\n      <td>4.00</td>\n      <td>2.00</td>\n      <td>4.00</td>\n      <td>1125.00</td>\n      <td>184.00</td>\n      <td>18.00</td>\n      <td>100.00</td>\n      <td>0.77</td>\n    </tr>\n    <tr>\n      <th>max</th>\n      <td>49135722.00</td>\n      <td>397076625.00</td>\n      <td>587.00</td>\n      <td>48.91</td>\n      <td>2.48</td>\n      <td>16.00</td>\n      <td>90.00</td>\n      <td>9999.00</td>\n      <td>10000000.00</td>\n      <td>365.00</td>\n      <td>895.00</td>\n      <td>100.00</td>\n      <td>32.66</td>\n    </tr>\n  </tbody>\n</table>\n</div>",
      "text/plain": "               id      host_id  calculated_host_listings_count  latitude  \\\ncount    63090.00     63090.00                        63090.00  63090.00   \nmean  24321155.73  88748545.78                           12.85     48.86   \nstd   14511132.22 106108316.85                           62.43      0.02   \nmin       2577.00      2626.00                            1.00     48.81   \n25%   11714914.50  12926432.00                            1.00     48.85   \n50%   23835849.50  37546325.50                            1.00     48.87   \n75%   37348607.25 132157839.25                            2.00     48.88   \nmax   49135722.00 397076625.00                          587.00     48.91   \n\n       longitude  accommodates     beds  minimum_nights  maximum_nights  \\\ncount   63090.00      63090.00 62460.00        63090.00        63090.00   \nmean        2.35          3.04     1.68            6.03          852.76   \nstd         0.03          1.60     1.32           45.30        39817.08   \nmin         2.22          0.00     0.00            1.00            1.00   \n25%         2.32          2.00     1.00            1.00           30.00   \n50%         2.35          2.00     1.00            2.00         1125.00   \n75%         2.37          4.00     2.00            4.00         1125.00   \nmax         2.48         16.00    90.00         9999.00     10000000.00   \n\n       availability_365  number_of_reviews  review_scores_rating  \\\ncount          63090.00           63090.00              46641.00   \nmean             100.79              18.77                 93.09   \nstd              137.44              40.94                  9.02   \nmin                0.00               0.00                 20.00   \n25%                0.00               1.00                 90.00   \n50%                0.00               5.00                 95.00   \n75%              184.00              18.00                100.00   \nmax              365.00             895.00                100.00   \n\n       reviews_per_month  \ncount           47784.00  \nmean                0.63  \nstd                 0.97  \nmin                 0.01  \n25%                 0.11  \n50%                 0.30  \n75%                 0.77  \nmax                32.66  "
     },
     "execution_count": 17,
     "metadata": {},
     "output_type": "execute_result"
    }
   ],
   "source": [
    "df_listing.describe()"
   ]
  },
  {
   "cell_type": "code",
   "execution_count": 18,
   "metadata": {},
   "outputs": [
    {
     "data": {
      "text/plain": "'def slice_night_stay(x):\\n    if x == 1:\\n        return \"1\"\\n    elif x == 2:\\n        return \"2\"\\n    elif x == 3:\\n        return \"3\"\\n    elif x > 3 and x < 7:\\n        return \"4-6\"\\n    elif x > 6 and x < 28:\\n        return \"7-27\"\\n    else:\\n        return \"28+\"\\n\\n\\ndf_listing[\\'slice_min_night\\'] = df_listing[\\'minimum_nights\\'].apply(slice_night_stay)'"
     },
     "execution_count": 18,
     "metadata": {},
     "output_type": "execute_result"
    }
   ],
   "source": [
    "\"\"\"def slice_night_stay(x):\n",
    "    if x == 1:\n",
    "        return \"1\"\n",
    "    elif x == 2:\n",
    "        return \"2\"\n",
    "    elif x == 3:\n",
    "        return \"3\"\n",
    "    elif x > 3 and x < 7:\n",
    "        return \"4-6\"\n",
    "    elif x > 6 and x < 28:\n",
    "        return \"7-27\"\n",
    "    else:\n",
    "        return \"28+\"\n",
    "\n",
    "\n",
    "df_listing['slice_min_night'] = df_listing['minimum_nights'].apply(slice_night_stay)\"\"\""
   ]
  },
  {
   "cell_type": "markdown",
   "metadata": {},
   "source": [
    "# III/ Data cleaning"
   ]
  },
  {
   "cell_type": "markdown",
   "metadata": {},
   "source": [
    "**Columns with missing values in listings dataset** :\n",
    "\n",
    "* name\n",
    "* host_is_superhost\n",
    "* host_total_listings_count\n",
    "* host_since\n",
    "* host_location\n",
    "* beds\n",
    "* review_scores_rating\n",
    "* reviews_per_month\n"
   ]
  },
  {
   "cell_type": "code",
   "execution_count": 19,
   "metadata": {},
   "outputs": [],
   "source": [
    "df_listing['name'] = df_listing['name'].fillna('Not informed')\n",
    "df_listing['host_is_superhost'] = df_listing['host_is_superhost'].fillna('Not informed')\n",
    "df_listing['host_is_superhost'].replace({\n",
    "    'f' : 'False',\n",
    "    't' : 'True'\n",
    "})\n",
    "df_listing['calculated_host_listings_count'] = df_listing['calculated_host_listings_count'].fillna(1)\n",
    "df_listing['host_since'] = df_listing['host_since'].fillna('0000-00-00')\n",
    "df_listing['host_location'] = df_listing['host_location'].fillna('Not informed')\n",
    "df_listing['beds'] = df_listing['beds'].fillna(method='bfill')\n",
    "df_listing['review_scores_rating'] = df_listing['review_scores_rating'].fillna(0)\n",
    "df_listing['reviews_per_month'] = df_listing['reviews_per_month'].fillna(0)\n"
   ]
  },
  {
   "cell_type": "code",
   "execution_count": 20,
   "metadata": {},
   "outputs": [
    {
     "data": {
      "text/plain": "id                                0\nhost_id                           0\nname                              0\nhost_is_superhost                 0\ncalculated_host_listings_count    0\nneighbourhood_cleansed            0\nlatitude                          0\nlongitude                         0\nhost_since                        0\nhost_location                     0\nroom_type                         0\naccommodates                      0\nbeds                              0\nprice                             0\nminimum_nights                    0\nmaximum_nights                    0\nhas_availability                  0\navailability_365                  0\nnumber_of_reviews                 0\nreview_scores_rating              0\nreviews_per_month                 0\ndtype: int64"
     },
     "execution_count": 20,
     "metadata": {},
     "output_type": "execute_result"
    }
   ],
   "source": [
    "df_listing.isnull().sum()"
   ]
  },
  {
   "cell_type": "code",
   "execution_count": 21,
   "metadata": {},
   "outputs": [
    {
     "name": "stderr",
     "output_type": "stream",
     "text": [
      "<ipython-input-21-db3ed8a88e0d>:1: FutureWarning: The default value of regex will change from True to False in a future version. In addition, single character regular expressions will*not* be treated as literal strings when regex=True.\n",
      "  df_listing['price'] = df_listing['price'].str.replace(\"$\", \"\")\n"
     ]
    }
   ],
   "source": [
    "df_listing['price'] = df_listing['price'].str.replace(\"$\", \"\")\n",
    "df_listing['price'] = df_listing['price'].str.replace(\",\", \"\")\n",
    "df_listing['price'] = df_listing['price'].astype('float64')"
   ]
  },
  {
   "cell_type": "markdown",
   "metadata": {},
   "source": [
    "**Columns with missing values in Calendar Dataset**\n",
    "\n",
    "* price\n",
    "* minimum_nights\n",
    "* maximun_nights"
   ]
  },
  {
   "cell_type": "code",
   "execution_count": 22,
   "metadata": {},
   "outputs": [
    {
     "name": "stderr",
     "output_type": "stream",
     "text": [
      "<ipython-input-22-b896a0912641>:1: FutureWarning: The default value of regex will change from True to False in a future version. In addition, single character regular expressions will*not* be treated as literal strings when regex=True.\n",
      "  df_calendar['price'] = df_calendar['price'].str.replace(\"$\", \"\")\n"
     ]
    }
   ],
   "source": [
    "df_calendar['price'] = df_calendar['price'].str.replace(\"$\", \"\")\n",
    "df_calendar['price'] = df_calendar['price'].str.replace(\",\", \"\")\n",
    "df_calendar['price'] = df_calendar['price'].astype('float64')"
   ]
  },
  {
   "cell_type": "code",
   "execution_count": 23,
   "metadata": {},
   "outputs": [],
   "source": [
    "df_calendar['price'] = df_calendar['price'].fillna(df_calendar['price'].mean())\n",
    "df_calendar['minimum_nights'] = df_calendar['minimum_nights'].fillna(df_calendar['minimum_nights'].mean())\n",
    "df_calendar['maximum_nights'] = df_calendar['maximum_nights'].fillna(df_calendar['maximum_nights'].mean())"
   ]
  },
  {
   "cell_type": "code",
   "execution_count": 24,
   "metadata": {},
   "outputs": [
    {
     "data": {
      "text/plain": "listing_id        0\ndate              0\navailable         0\nprice             0\nminimum_nights    0\nmaximum_nights    0\ndtype: int64"
     },
     "execution_count": 24,
     "metadata": {},
     "output_type": "execute_result"
    }
   ],
   "source": [
    "df_calendar.isnull().sum()"
   ]
  },
  {
   "cell_type": "code",
   "execution_count": 34,
   "metadata": {},
   "outputs": [],
   "source": [
    "clean_listings = df_listing.to_csv(\"../Data/intermediate_data/clean_listings.csv\")\n",
    "clean_calendar = df_calendar.to_csv(\"../Data/intermediate_data/clean_calendar.csv\")\n",
    "cleaned_reviews = df_reviews.to_csv(\"../Data/intermediate_data/clean_reviews.csv\")"
   ]
  },
  {
   "cell_type": "markdown",
   "metadata": {},
   "source": [
    "# IV. Exploring and Visualizing Data"
   ]
  },
  {
   "cell_type": "markdown",
   "metadata": {},
   "source": [
    "Now we are ready to do some data visualisation to understand our data and learn as much as we can."
   ]
  },
  {
   "cell_type": "code",
   "execution_count": 25,
   "metadata": {},
   "outputs": [
    {
     "data": {
      "text/plain": "291007369    587\n2667370      232\n33889201     216\n325882341    201\n7642792      180\n50978178     159\n17037121     158\n56333610     133\n21630783      93\n2107478       83\nName: host_id, dtype: int64"
     },
     "execution_count": 25,
     "metadata": {},
     "output_type": "execute_result"
    }
   ],
   "source": [
    "# Le's first see which are the hosts with the most listings on AirBnb in Paris and taking most advantage of the service\n",
    "df_listing['host_id'].value_counts().head(10)"
   ]
  },
  {
   "cell_type": "markdown",
   "metadata": {},
   "source": [
    "The host with the most listings has 1548 listings\n",
    "We can check if that's true with the colmun \"calculated_host_listings_count\" "
   ]
  },
  {
   "cell_type": "code",
   "execution_count": 28,
   "metadata": {},
   "outputs": [
    {
     "data": {
      "text/plain": "587"
     },
     "execution_count": 28,
     "metadata": {},
     "output_type": "execute_result"
    }
   ],
   "source": [
    "df_listing['calculated_host_listings_count'].max()"
   ]
  },
  {
   "cell_type": "code",
   "execution_count": 29,
   "metadata": {},
   "outputs": [],
   "source": [
    "#setting figure size for future visualizations\n",
    "sns.set(rc={'figure.figsize':(10,8)})\n",
    "sns.set_style('white')"
   ]
  },
  {
   "cell_type": "code",
   "execution_count": 30,
   "metadata": {},
   "outputs": [
    {
     "data": {
      "text/html": "<div>\n<style scoped>\n    .dataframe tbody tr th:only-of-type {\n        vertical-align: middle;\n    }\n\n    .dataframe tbody tr th {\n        vertical-align: top;\n    }\n\n    .dataframe thead th {\n        text-align: right;\n    }\n</style>\n<table border=\"1\" class=\"dataframe\">\n  <thead>\n    <tr style=\"text-align: right;\">\n      <th></th>\n      <th>Host_ID</th>\n      <th>P_Count</th>\n    </tr>\n  </thead>\n  <tbody>\n    <tr>\n      <th>0</th>\n      <td>291007369</td>\n      <td>587</td>\n    </tr>\n    <tr>\n      <th>1</th>\n      <td>2667370</td>\n      <td>232</td>\n    </tr>\n    <tr>\n      <th>2</th>\n      <td>33889201</td>\n      <td>216</td>\n    </tr>\n    <tr>\n      <th>3</th>\n      <td>325882341</td>\n      <td>201</td>\n    </tr>\n    <tr>\n      <th>4</th>\n      <td>7642792</td>\n      <td>180</td>\n    </tr>\n    <tr>\n      <th>5</th>\n      <td>50978178</td>\n      <td>159</td>\n    </tr>\n    <tr>\n      <th>6</th>\n      <td>17037121</td>\n      <td>158</td>\n    </tr>\n    <tr>\n      <th>7</th>\n      <td>56333610</td>\n      <td>133</td>\n    </tr>\n    <tr>\n      <th>8</th>\n      <td>21630783</td>\n      <td>93</td>\n    </tr>\n    <tr>\n      <th>9</th>\n      <td>2107478</td>\n      <td>83</td>\n    </tr>\n  </tbody>\n</table>\n</div>",
      "text/plain": "     Host_ID  P_Count\n0  291007369      587\n1    2667370      232\n2   33889201      216\n3  325882341      201\n4    7642792      180\n5   50978178      159\n6   17037121      158\n7   56333610      133\n8   21630783       93\n9    2107478       83"
     },
     "execution_count": 30,
     "metadata": {},
     "output_type": "execute_result"
    }
   ],
   "source": [
    "top_host_df=pd.DataFrame(df_listing['host_id'].value_counts().head(10))\n",
    "top_host_df.reset_index(inplace=True)\n",
    "top_host_df.rename(columns={'index':'Host_ID', 'host_id':'P_Count'}, inplace=True)\n",
    "top_host_df"
   ]
  },
  {
   "cell_type": "code",
   "execution_count": 31,
   "metadata": {},
   "outputs": [
    {
     "data": {
      "text/plain": "[Text(0, 0, '2107478'),\n Text(1, 0, '2667370'),\n Text(2, 0, '7642792'),\n Text(3, 0, '17037121'),\n Text(4, 0, '21630783'),\n Text(5, 0, '33889201'),\n Text(6, 0, '50978178'),\n Text(7, 0, '56333610'),\n Text(8, 0, '291007369'),\n Text(9, 0, '325882341')]"
     },
     "execution_count": 31,
     "metadata": {},
     "output_type": "execute_result"
    },
    {
     "data": {
      "image/png": "[encoded data removed]",
      "text/plain": "<Figure size 720x576 with 1 Axes>"
     },
     "metadata": {},
     "output_type": "display_data"
    }
   ],
   "source": [
    "\n",
    "\n",
    "viz_1=sns.barplot(x=\"Host_ID\", y=\"P_Count\", data=top_host_df,\n",
    "                 palette='Blues_d')\n",
    "viz_1.set_title('Hosts with the most listings in Paris')\n",
    "viz_1.set_ylabel('Count of listings')\n",
    "viz_1.set_xlabel('Host IDs')\n",
    "viz_1.set_xticklabels(viz_1.get_xticklabels(), rotation=45)\n",
    "\n"
   ]
  }
 ],
 "metadata": {
  "kernelspec": {
   "display_name": "Python 3.8.8 64-bit ('base': conda)",
   "name": "python388jvsc74a57bd05b9c502b618e97131917a2f1409b4700bb639cdf99ce16cd88a0e27a90524386"
  },
  "language_info": {
   "codemirror_mode": {
    "name": "ipython",
    "version": 3
   },
   "file_extension": ".py",
   "mimetype": "text/x-python",
   "name": "python",
   "nbconvert_exporter": "python",
   "pygments_lexer": "ipython3",
   "version": "3.8.8"
  },
  "orig_nbformat": 2
 },
 "nbformat": 4,
 "nbformat_minor": 2
}