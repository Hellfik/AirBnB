{
 "cells": [
  {
   "cell_type": "code",
   "execution_count": 1,
   "metadata": {},
   "outputs": [
    {
     "data": {
      "text/plain": "'2.3.1'"
     },
     "execution_count": 1,
     "metadata": {},
     "output_type": "execute_result"
    }
   ],
   "source": [
    "from pycaret.utils import version\n",
    "import pandas as pd\n",
    "version()"
   ]
  },
  {
   "cell_type": "markdown",
   "metadata": {},
   "source": [
    "# 1. Loading Dataset"
   ]
  },
  {
   "cell_type": "code",
   "execution_count": 2,
   "metadata": {},
   "outputs": [
    {
     "data": {
      "text/html": "<div>\n<style scoped>\n    .dataframe tbody tr th:only-of-type {\n        vertical-align: middle;\n    }\n\n    .dataframe tbody tr th {\n        vertical-align: top;\n    }\n\n    .dataframe thead th {\n        text-align: right;\n    }\n</style>\n<table border=\"1\" class=\"dataframe\">\n  <thead>\n    <tr style=\"text-align: right;\">\n      <th></th>\n      <th>Unnamed: 0</th>\n      <th>id</th>\n      <th>host_id</th>\n      <th>name</th>\n      <th>host_is_superhost</th>\n      <th>calculated_host_listings_count</th>\n      <th>neighbourhood_cleansed</th>\n      <th>latitude</th>\n      <th>longitude</th>\n      <th>host_since</th>\n      <th>...</th>\n      <th>accommodates</th>\n      <th>beds</th>\n      <th>price</th>\n      <th>minimum_nights</th>\n      <th>maximum_nights</th>\n      <th>has_availability</th>\n      <th>availability_365</th>\n      <th>number_of_reviews</th>\n      <th>review_scores_rating</th>\n      <th>reviews_per_month</th>\n    </tr>\n  </thead>\n  <tbody>\n    <tr>\n      <th>0</th>\n      <td>0</td>\n      <td>2577</td>\n      <td>2827</td>\n      <td>Loft for 4 by Canal Saint Martin</td>\n      <td>f</td>\n      <td>1</td>\n      <td>Entrepôt</td>\n      <td>48.86957</td>\n      <td>2.36127</td>\n      <td>2008-09-09</td>\n      <td>...</td>\n      <td>4</td>\n      <td>2.0</td>\n      <td>125.0</td>\n      <td>3</td>\n      <td>1125</td>\n      <td>t</td>\n      <td>286</td>\n      <td>1</td>\n      <td>100.0</td>\n      <td>0.04</td>\n    </tr>\n    <tr>\n      <th>1</th>\n      <td>1</td>\n      <td>3109</td>\n      <td>3631</td>\n      <td>zen and calm</td>\n      <td>f</td>\n      <td>1</td>\n      <td>Observatoire</td>\n      <td>48.83191</td>\n      <td>2.31870</td>\n      <td>2008-10-14</td>\n      <td>...</td>\n      <td>2</td>\n      <td>1.0</td>\n      <td>60.0</td>\n      <td>2</td>\n      <td>30</td>\n      <td>t</td>\n      <td>365</td>\n      <td>9</td>\n      <td>100.0</td>\n      <td>0.17</td>\n    </tr>\n    <tr>\n      <th>2</th>\n      <td>2</td>\n      <td>5396</td>\n      <td>7903</td>\n      <td>Explore the heart of old Paris</td>\n      <td>f</td>\n      <td>1</td>\n      <td>Hôtel-de-Ville</td>\n      <td>48.85247</td>\n      <td>2.35835</td>\n      <td>2009-02-14</td>\n      <td>...</td>\n      <td>2</td>\n      <td>1.0</td>\n      <td>47.0</td>\n      <td>1</td>\n      <td>1125</td>\n      <td>t</td>\n      <td>58</td>\n      <td>237</td>\n      <td>90.0</td>\n      <td>1.65</td>\n    </tr>\n    <tr>\n      <th>3</th>\n      <td>3</td>\n      <td>7397</td>\n      <td>2626</td>\n      <td>MARAIS - 2ROOMS APT - 2/4 PEOPLE</td>\n      <td>t</td>\n      <td>1</td>\n      <td>Hôtel-de-Ville</td>\n      <td>48.85909</td>\n      <td>2.35315</td>\n      <td>2008-08-30</td>\n      <td>...</td>\n      <td>4</td>\n      <td>2.0</td>\n      <td>90.0</td>\n      <td>10</td>\n      <td>130</td>\n      <td>t</td>\n      <td>327</td>\n      <td>272</td>\n      <td>94.0</td>\n      <td>2.23</td>\n    </tr>\n    <tr>\n      <th>4</th>\n      <td>4</td>\n      <td>7964</td>\n      <td>22155</td>\n      <td>Large &amp; sunny flat with balcony !</td>\n      <td>f</td>\n      <td>1</td>\n      <td>Opéra</td>\n      <td>48.87417</td>\n      <td>2.34245</td>\n      <td>2009-06-18</td>\n      <td>...</td>\n      <td>2</td>\n      <td>1.0</td>\n      <td>130.0</td>\n      <td>6</td>\n      <td>365</td>\n      <td>t</td>\n      <td>365</td>\n      <td>6</td>\n      <td>96.0</td>\n      <td>0.05</td>\n    </tr>\n  </tbody>\n</table>\n<p>5 rows × 22 columns</p>\n</div>",
      "text/plain": "   Unnamed: 0    id  host_id                               name  \\\n0           0  2577     2827   Loft for 4 by Canal Saint Martin   \n1           1  3109     3631                       zen and calm   \n2           2  5396     7903     Explore the heart of old Paris   \n3           3  7397     2626   MARAIS - 2ROOMS APT - 2/4 PEOPLE   \n4           4  7964    22155  Large & sunny flat with balcony !   \n\n  host_is_superhost  calculated_host_listings_count neighbourhood_cleansed  \\\n0                 f                               1               Entrepôt   \n1                 f                               1           Observatoire   \n2                 f                               1         Hôtel-de-Ville   \n3                 t                               1         Hôtel-de-Ville   \n4                 f                               1                  Opéra   \n\n   latitude  longitude  host_since  ... accommodates beds  price  \\\n0  48.86957    2.36127  2008-09-09  ...            4  2.0  125.0   \n1  48.83191    2.31870  2008-10-14  ...            2  1.0   60.0   \n2  48.85247    2.35835  2009-02-14  ...            2  1.0   47.0   \n3  48.85909    2.35315  2008-08-30  ...            4  2.0   90.0   \n4  48.87417    2.34245  2009-06-18  ...            2  1.0  130.0   \n\n   minimum_nights  maximum_nights  has_availability  availability_365  \\\n0               3            1125                 t               286   \n1               2              30                 t               365   \n2               1            1125                 t                58   \n3              10             130                 t               327   \n4               6             365                 t               365   \n\n  number_of_reviews  review_scores_rating  reviews_per_month  \n0                 1                 100.0               0.04  \n1                 9                 100.0               0.17  \n2               237                  90.0               1.65  \n3               272                  94.0               2.23  \n4                 6                  96.0               0.05  \n\n[5 rows x 22 columns]"
     },
     "execution_count": 2,
     "metadata": {},
     "output_type": "execute_result"
    }
   ],
   "source": [
    "df = pd.read_csv('../Data/intermediate_data/clean_listings.csv')\n",
    "df.head()"
   ]
  },
  {
   "cell_type": "markdown",
   "metadata": {},
   "source": [
    "# 2. Initialize Setup"
   ]
  },
  {
   "cell_type": "code",
   "execution_count": 3,
   "metadata": {},
   "outputs": [
    {
     "data": {
      "application/vnd.jupyter.widget-view+json": {
       "model_id": "7494d353801742cc8e7e9ded6074d57f",
       "version_major": 2,
       "version_minor": 0
      },
      "text/plain": "IntProgress(value=0, description='Processing: ', max=3)"
     },
     "metadata": {},
     "output_type": "display_data"
    },
    {
     "data": {
      "text/html": "<div>\n<style scoped>\n    .dataframe tbody tr th:only-of-type {\n        vertical-align: middle;\n    }\n\n    .dataframe tbody tr th {\n        vertical-align: top;\n    }\n\n    .dataframe thead th {\n        text-align: right;\n    }\n</style>\n<table border=\"1\" class=\"dataframe\">\n  <thead>\n    <tr style=\"text-align: right;\">\n      <th></th>\n      <th></th>\n      <th></th>\n    </tr>\n    <tr>\n      <th></th>\n      <th></th>\n      <th></th>\n    </tr>\n  </thead>\n  <tbody>\n    <tr>\n      <th>Initiated</th>\n      <td>. . . . . . . . . . . . . . . . . .</td>\n      <td>09:30:15</td>\n    </tr>\n    <tr>\n      <th>Status</th>\n      <td>. . . . . . . . . . . . . . . . . .</td>\n      <td>Preprocessing Data</td>\n    </tr>\n  </tbody>\n</table>\n</div>",
      "text/plain": "                                                                  \n                                                                  \nInitiated  . . . . . . . . . . . . . . . . . .            09:30:15\nStatus     . . . . . . . . . . . . . . . . . .  Preprocessing Data"
     },
     "metadata": {},
     "output_type": "display_data"
    },
    {
     "data": {
      "application/vnd.jupyter.widget-view+json": {
       "model_id": "9014f0738f9e45bd9a13e9ba863b4ddb",
       "version_major": 2,
       "version_minor": 0
      },
      "text/plain": "Text(value=\"Following data types have been inferred automatically, if they are correct press enter to continue…"
     },
     "metadata": {},
     "output_type": "display_data"
    },
    {
     "data": {
      "text/html": "<div>\n<style scoped>\n    .dataframe tbody tr th:only-of-type {\n        vertical-align: middle;\n    }\n\n    .dataframe tbody tr th {\n        vertical-align: top;\n    }\n\n    .dataframe thead th {\n        text-align: right;\n    }\n</style>\n<table border=\"1\" class=\"dataframe\">\n  <thead>\n    <tr style=\"text-align: right;\">\n      <th></th>\n      <th>Data Type</th>\n    </tr>\n  </thead>\n  <tbody>\n    <tr>\n      <th>Unnamed: 0</th>\n      <td>ID Column</td>\n    </tr>\n    <tr>\n      <th>id</th>\n      <td>Numeric</td>\n    </tr>\n    <tr>\n      <th>host_id</th>\n      <td>Numeric</td>\n    </tr>\n    <tr>\n      <th>name</th>\n      <td>Categorical</td>\n    </tr>\n    <tr>\n      <th>host_is_superhost</th>\n      <td>Categorical</td>\n    </tr>\n    <tr>\n      <th>calculated_host_listings_count</th>\n      <td>Numeric</td>\n    </tr>\n    <tr>\n      <th>neighbourhood_cleansed</th>\n      <td>Categorical</td>\n    </tr>\n    <tr>\n      <th>latitude</th>\n      <td>Numeric</td>\n    </tr>\n    <tr>\n      <th>longitude</th>\n      <td>Numeric</td>\n    </tr>\n    <tr>\n      <th>host_since</th>\n      <td>Categorical</td>\n    </tr>\n    <tr>\n      <th>host_location</th>\n      <td>Categorical</td>\n    </tr>\n    <tr>\n      <th>room_type</th>\n      <td>Categorical</td>\n    </tr>\n    <tr>\n      <th>accommodates</th>\n      <td>Categorical</td>\n    </tr>\n    <tr>\n      <th>beds</th>\n      <td>Numeric</td>\n    </tr>\n    <tr>\n      <th>minimum_nights</th>\n      <td>Numeric</td>\n    </tr>\n    <tr>\n      <th>maximum_nights</th>\n      <td>Numeric</td>\n    </tr>\n    <tr>\n      <th>has_availability</th>\n      <td>Categorical</td>\n    </tr>\n    <tr>\n      <th>availability_365</th>\n      <td>Numeric</td>\n    </tr>\n    <tr>\n      <th>number_of_reviews</th>\n      <td>Numeric</td>\n    </tr>\n    <tr>\n      <th>review_scores_rating</th>\n      <td>Numeric</td>\n    </tr>\n    <tr>\n      <th>reviews_per_month</th>\n      <td>Numeric</td>\n    </tr>\n    <tr>\n      <th>price</th>\n      <td>Label</td>\n    </tr>\n  </tbody>\n</table>\n</div>",
      "text/plain": "                                  Data Type\nUnnamed: 0                        ID Column\nid                                  Numeric\nhost_id                             Numeric\nname                            Categorical\nhost_is_superhost               Categorical\ncalculated_host_listings_count      Numeric\nneighbourhood_cleansed          Categorical\nlatitude                            Numeric\nlongitude                           Numeric\nhost_since                      Categorical\nhost_location                   Categorical\nroom_type                       Categorical\naccommodates                    Categorical\nbeds                                Numeric\nminimum_nights                      Numeric\nmaximum_nights                      Numeric\nhas_availability                Categorical\navailability_365                    Numeric\nnumber_of_reviews                   Numeric\nreview_scores_rating                Numeric\nreviews_per_month                   Numeric\nprice                                 Label"
     },
     "metadata": {},
     "output_type": "display_data"
    }
   ],
   "source": [
    "from pycaret.regression import *\n",
    "reg1 = setup(df, target='price', session_id=123, log_experiment=True)"
   ]
  },
  {
   "cell_type": "code",
   "execution_count": null,
   "metadata": {},
   "outputs": [
    {
     "ename": "Error",
     "evalue": "Kernel is dead",
     "output_type": "error",
     "traceback": [
      "Error: Kernel is dead",
      "at g._sendKernelShellControl (/home/apprenant/.vscode/extensions/ms-toolsai.jupyter-2021.5.745244803/out/client/extension.js:47:847444)",
      "at g.sendShellMessage (/home/apprenant/.vscode/extensions/ms-toolsai.jupyter-2021.5.745244803/out/client/extension.js:47:847213)",
      "at g.requestExecute (/home/apprenant/.vscode/extensions/ms-toolsai.jupyter-2021.5.745244803/out/client/extension.js:47:849755)",
      "at d.requestExecute (/home/apprenant/.vscode/extensions/ms-toolsai.jupyter-2021.5.745244803/out/client/extension.js:32:335823)",
      "at w.requestExecute (/home/apprenant/.vscode/extensions/ms-toolsai.jupyter-2021.5.745244803/out/client/extension.js:24:130165)",
      "at w.executeCodeCell (/home/apprenant/.vscode/extensions/ms-toolsai.jupyter-2021.5.745244803/out/client/extension.js:49:635259)",
      "at w.execute (/home/apprenant/.vscode/extensions/ms-toolsai.jupyter-2021.5.745244803/out/client/extension.js:49:634882)",
      "at w.start (/home/apprenant/.vscode/extensions/ms-toolsai.jupyter-2021.5.745244803/out/client/extension.js:49:629791)",
      "at runMicrotasks (<anonymous>)",
      "at processTicksAndRejections (internal/process/task_queues.js:97:5)",
      "at async t.CellExecutionQueue.executeQueuedCells (/home/apprenant/.vscode/extensions/ms-toolsai.jupyter-2021.5.745244803/out/client/extension.js:49:644977)",
      "at async t.CellExecutionQueue.start (/home/apprenant/.vscode/extensions/ms-toolsai.jupyter-2021.5.745244803/out/client/extension.js:49:644517)"
     ]
    }
   ],
   "source": [
    "best_model = compare_models((fold=10))"
   ]
  }
 ],
 "metadata": {
  "kernelspec": {
   "display_name": "Python 3.8.8 64-bit ('base': conda)",
   "name": "python388jvsc74a57bd05b9c502b618e97131917a2f1409b4700bb639cdf99ce16cd88a0e27a90524386"
  },
  "language_info": {
   "codemirror_mode": {
    "name": "ipython",
    "version": 3
   },
   "file_extension": ".py",
   "mimetype": "text/x-python",
   "name": "python",
   "nbconvert_exporter": "python",
   "pygments_lexer": "ipython3",
   "version": "3.8.8"
  },
  "orig_nbformat": 2
 },
 "nbformat": 4,
 "nbformat_minor": 2
}